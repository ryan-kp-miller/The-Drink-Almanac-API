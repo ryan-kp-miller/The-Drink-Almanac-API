{
 "cells": [
  {
   "cell_type": "code",
   "execution_count": 1,
   "metadata": {},
   "outputs": [],
   "source": [
    "import requests"
   ]
  },
  {
   "cell_type": "code",
   "execution_count": 4,
   "metadata": {},
   "outputs": [],
   "source": [
    "min_drink_id = 11000\n",
    "base_url = \"https://www.thecocktaildb.com/api/json/v1/1/lookup.php?i={drink_id}\""
   ]
  },
  {
   "cell_type": "code",
   "execution_count": 19,
   "metadata": {},
   "outputs": [],
   "source": [
    "def retrieve_raw_drink_data(drink_id: int) -> dict:\n",
    "    drink_url = base_url.format(drink_id=drink_id)\n",
    "    response = requests.get(drink_url)\n",
    "    print(f\"Response Status: {response.status_code}\")    \n",
    "    return response.json()"
   ]
  },
  {
   "cell_type": "code",
   "execution_count": 37,
   "metadata": {},
   "outputs": [],
   "source": [
    "def clean_drink_data(raw_drink_data: dict) -> dict:\n",
    "    drink_data = {\n",
    "        \"name\": raw_drink_data[\"drinks\"][0][\"strDrink\"],\n",
    "        \"id\": raw_drink_data[\"drinks\"][0][\"idDrink\"],\n",
    "        \"category\": raw_drink_data[\"drinks\"][0][\"strCategory\"],\n",
    "        \"iba\": raw_drink_data[\"drinks\"][0][\"strIBA\"],\n",
    "        \"is_alcoholic\": raw_drink_data[\"drinks\"][0][\"strAlcoholic\"].lower() == \"alcoholic\",\n",
    "        \"glass\": raw_drink_data[\"drinks\"][0][\"strGlass\"],\n",
    "        \"instructions\": raw_drink_data[\"drinks\"][0][\"strInstructions\"],\n",
    "        \"ingredients\": [],\n",
    "    }\n",
    "\n",
    "    # the max amount of ingredients is 20 and they start at 1\n",
    "    for i in range(1,21):\n",
    "        if raw_drink_data[\"drinks\"][0].get(f\"strIngredient{i}\"):\n",
    "            ingredient_name = raw_drink_data[\"drinks\"][0][f\"strIngredient{i}\"]\n",
    "            ingredient_measurement = raw_drink_data[\"drinks\"][0][f\"strMeasure{i}\"]\n",
    "\n",
    "            drink_data[\"ingredients\"].append(\n",
    "                {\n",
    "                    \"name\": ingredient_name.strip(),\n",
    "                    \"measurement\": \"\" if ingredient_measurement is None else ingredient_measurement.strip()\n",
    "                }\n",
    "            )\n",
    "    \n",
    "    return drink_data"
   ]
  },
  {
   "cell_type": "code",
   "execution_count": 36,
   "metadata": {},
   "outputs": [
    {
     "name": "stdout",
     "output_type": "stream",
     "text": [
      "Response Status: 200\n"
     ]
    },
    {
     "data": {
      "text/plain": [
       "{'name': 'Mojito',\n",
       " 'id': '11000',\n",
       " 'category': 'Cocktail',\n",
       " 'iba': 'Contemporary Classics',\n",
       " 'is_alcoholic': True,\n",
       " 'glass': 'Highball glass',\n",
       " 'instructions': 'Muddle mint leaves with sugar and lime juice. Add a splash of soda water and fill the glass with cracked ice. Pour the rum and top with soda water. Garnish and serve with straw.',\n",
       " 'ingredients': [{'name': 'Light rum', 'measurement': '2-3 oz'},\n",
       "  {'name': 'Lime', 'measurement': 'Juice of 1'},\n",
       "  {'name': 'Sugar', 'measurement': '2 tsp'},\n",
       "  {'name': 'Mint', 'measurement': '2-4'},\n",
       "  {'name': 'Soda water', 'measurement': ''}]}"
      ]
     },
     "execution_count": 36,
     "metadata": {},
     "output_type": "execute_result"
    }
   ],
   "source": [
    "raw_drink_data = retrieve_raw_drink_data(min_drink_id)\n",
    "drink_data = clean_drink_data(raw_drink_data)\n",
    "drink_data"
   ]
  }
 ],
 "metadata": {
  "kernelspec": {
   "display_name": "Python 3.9.1 64-bit",
   "language": "python",
   "name": "python3"
  },
  "language_info": {
   "codemirror_mode": {
    "name": "ipython",
    "version": 3
   },
   "file_extension": ".py",
   "mimetype": "text/x-python",
   "name": "python",
   "nbconvert_exporter": "python",
   "pygments_lexer": "ipython3",
   "version": "3.9.1"
  },
  "orig_nbformat": 4,
  "vscode": {
   "interpreter": {
    "hash": "81794d4967e6c3204c66dcd87b604927b115b27c00565d3d43f05ba2f3a2cb0d"
   }
  }
 },
 "nbformat": 4,
 "nbformat_minor": 2
}
